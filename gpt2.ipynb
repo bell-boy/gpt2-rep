{
 "cells": [
  {
   "cell_type": "code",
   "execution_count": 27,
   "metadata": {},
   "outputs": [],
   "source": [
    "import torch\n",
    "import torch.nn as nn\n",
    "import torch.nn.functional as F\n",
    "import datasets\n",
    "from jaxtyping import Float\n",
    "from torch import Tensor\n",
    "from einops import einsum, rearrange, reduce"
   ]
  },
  {
   "cell_type": "code",
   "execution_count": 24,
   "metadata": {},
   "outputs": [],
   "source": [
    "seq_len = 512\n",
    "def tokenize(raw_text):\n",
    "  raw_text = raw_text['text'][0]\n",
    "  token = [ord(x) for x in raw_text]\n",
    "  current_token = []\n",
    "  next_token = []\n",
    "  for idx in range(len(token) // seq_len):\n",
    "    t = token[idx:idx + seq_len + 1]\n",
    "    current_token.append(t[:-1])\n",
    "    next_token.append(t[1:])\n",
    "  return {'current': current_token,\n",
    "          'next': next_token}"
   ]
  },
  {
   "cell_type": "code",
   "execution_count": 25,
   "metadata": {},
   "outputs": [
    {
     "data": {
      "application/vnd.jupyter.widget-view+json": {
       "model_id": "246ae203d26b4867a90afb9a195fa40f",
       "version_major": 2,
       "version_minor": 0
      },
      "text/plain": [
       "Map:   0%|          | 0/1 [00:00<?, ? examples/s]"
      ]
     },
     "metadata": {},
     "output_type": "display_data"
    }
   ],
   "source": [
    "raw_text_data = datasets.load_dataset('karpathy/tiny_shakespeare', split='train')\n",
    "char_data = raw_text_data.map(tokenize, batched=True, remove_columns=['text']).with_format('torch')"
   ]
  },
  {
   "cell_type": "code",
   "execution_count": 20,
   "metadata": {},
   "outputs": [],
   "source": [
    "class Embedding(nn.Module):\n",
    "  def __init__(self, d_model: int, seq_len: int):\n",
    "    super().__init__()\n",
    "    self.embedding_matrix = nn.Parameter(torch.zeros(256, d_model))\n",
    "    nn.init.xavier_normal_(self.embedding_matrix)\n",
    "\n",
    "    self.positional_encoding = nn.Parameter(torch.zeros(seq_len, d_model))\n",
    "    nn.init.xavier_normal_(self.positional_encoding)\n",
    "\n",
    "  def forward(self, data: Float[Tensor, \"*batch seq_len\"]) -> Float[Tensor, \"*batch seq_len d_model\"]:\n",
    "    return self.embedding_matrix[data] + self.positional_encoding"
   ]
  },
  {
   "cell_type": "code",
   "execution_count": null,
   "metadata": {},
   "outputs": [],
   "source": [
    "class Attention(nn.Module):\n",
    "  def __init__(self, n_head: int, d_model: int, d_head: int, seq_len: int):\n",
    "    super().__init__()\n",
    "    self.seq_len = seq_len\n",
    "    self.d_head = d_head\n",
    "\n",
    "    self.query_matrix = nn.Parameter(torch.zeros(n_head, d_head, d_model))\n",
    "    nn.init.xavier_normal_(self.query_matrix)\n",
    "\n",
    "    self.key_matrix = nn.Parameter(torch.zeros(n_head, d_head, d_model))\n",
    "    nn.init.xavier_normal_(self.key_matrix)\n",
    "\n",
    "    self.value_matrix = nn.Parameter(torch.zeros(n_head, d_head, d_model))\n",
    "    nn.init.xavier_normal_(self.value_matrix)\n",
    "\n",
    "    self.output_matrix = nn.Parameter(torch.zeros(n_head, d_model, d_head))\n",
    "    nn.init.xavier_normal_(self.output_matrix)\n",
    "\n",
    "  def forward(self, data: Float[Tensor, \"*batch seq_len d_model\"]) -> Float[Tensor, \"*batch seq_len d_model\"]:\n",
    "    query = einsum(data, self.query_matrix, \"batch seq_len d_model, n_head d_head d_model -> batch n_head seq_len d_head\")\n",
    "    key = einsum(data, self.key_matrix, \"batch seq_len d_model, n_head d_head d_model -> batch n_head seq_len d_head\")\n",
    "    value = einsum(data, self.value_matrix, \"batch seq_len d_model, n_head d_head d_model -> batch n_head seq_len d_head\")\n",
    "\n",
    "    attn_pre = einsum(query, key, \"batch n_head query_len d_head, batch n_head key_len d_head -> batch n_head query_len key_len\")\n",
    "    mask_idx = torch.triu_indices(self.seq_len, self.seq_len, offset=1)\n",
    "    attn_pre[..., mask_idx[0], mask_idx[1]] = float('-inf')\n",
    "    attn_pre /= torch.sqrt(self.d_head)\n",
    "    F.softmax(attn_pre, dim=-1)\n",
    "\n",
    "    output_pre = einsum(attn_pre, value, \"batch n_head query_len key_len, batch n_head key_len d_head -> batch n_head key_len d_head\")\n",
    "    output = einsum(self.output_matrix, output_pre, \"batch n_head d_model d_head, batch n_head seq_len d_head -> batch seq_len d_model\")\n",
    "    return output"
   ]
  },
  {
   "cell_type": "code",
   "execution_count": 38,
   "metadata": {},
   "outputs": [
    {
     "data": {
      "text/plain": [
       "tensor([[[1.0000, 0.0000, 0.0000, 0.0000, 0.0000],\n",
       "         [0.8301, 0.1699, 0.0000, 0.0000, 0.0000],\n",
       "         [0.2476, 0.0859, 0.6665, 0.0000, 0.0000],\n",
       "         [0.5885, 0.2264, 0.0661, 0.1191, 0.0000],\n",
       "         [0.0641, 0.0822, 0.0706, 0.4376, 0.3455]],\n",
       "\n",
       "        [[1.0000, 0.0000, 0.0000, 0.0000, 0.0000],\n",
       "         [0.3539, 0.6461, 0.0000, 0.0000, 0.0000],\n",
       "         [0.3997, 0.3641, 0.2363, 0.0000, 0.0000],\n",
       "         [0.0996, 0.8157, 0.0093, 0.0754, 0.0000],\n",
       "         [0.1485, 0.0319, 0.7411, 0.0426, 0.0360]],\n",
       "\n",
       "        [[1.0000, 0.0000, 0.0000, 0.0000, 0.0000],\n",
       "         [0.9354, 0.0646, 0.0000, 0.0000, 0.0000],\n",
       "         [0.1461, 0.2672, 0.5867, 0.0000, 0.0000],\n",
       "         [0.2009, 0.1178, 0.3215, 0.3598, 0.0000],\n",
       "         [0.3561, 0.3709, 0.0353, 0.2032, 0.0345]]])"
      ]
     },
     "execution_count": 38,
     "metadata": {},
     "output_type": "execute_result"
    }
   ],
   "source": [
    "b = torch.randn((3, 5, 5))\n",
    "b[..., torch.triu_indices(5, 5, offset=1)[0], torch.triu_indices(5, 5, offset=1)[1],] = float('-inf')\n",
    "b = F.softmax(b, dim=-1)\n",
    "x = torch.randn((1, 5, 3))\n",
    "k= einsum(b, x, \"batch query_len key_len, batch key_len d_head -> batch key_len d_head\")\n"
   ]
  },
  {
   "cell_type": "code",
   "execution_count": null,
   "metadata": {},
   "outputs": [],
   "source": []
  }
 ],
 "metadata": {
  "kernelspec": {
   "display_name": ".gpt2",
   "language": "python",
   "name": "python3"
  },
  "language_info": {
   "codemirror_mode": {
    "name": "ipython",
    "version": 3
   },
   "file_extension": ".py",
   "mimetype": "text/x-python",
   "name": "python",
   "nbconvert_exporter": "python",
   "pygments_lexer": "ipython3",
   "version": "3.10.12"
  }
 },
 "nbformat": 4,
 "nbformat_minor": 2
}
